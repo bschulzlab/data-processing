{
 "cells": [
  {
   "cell_type": "markdown",
   "metadata": {},
   "source": [
    "The script would read \"source_file\" as source of \"Area\" and replace all \"Area\" in \"to_replace\" at corresponding \"First Scan\" values. The output filename and path are defined at \"output\"."
   ]
  },
  {
   "cell_type": "code",
   "execution_count": 1,
   "metadata": {},
   "outputs": [],
   "source": [
    "import pandas as pd"
   ]
  },
  {
   "cell_type": "code",
   "execution_count": 2,
   "metadata": {},
   "outputs": [],
   "source": [
    "source_file = r\"C:\\Users\\localadmin\\Downloads\\20190418_17_Schulz_Ruby_IgG_mz600_ETH1_MSnSpectrumInfo.xlsx\"\n",
    "to_replace = r\"C:\\Users\\localadmin\\Downloads\\ETH1.xlsx\"\n",
    "output = r\"C:\\Users\\localadmin\\Downloads\\ETH1_updated.xlsx\""
   ]
  },
  {
   "cell_type": "code",
   "execution_count": 3,
   "metadata": {},
   "outputs": [],
   "source": [
    "source_df = pd.read_excel(source_file, index_col=15)\n",
    "to_replace_df = pd.read_excel(to_replace)"
   ]
  },
  {
   "cell_type": "markdown",
   "metadata": {},
   "source": [
    "Iterate through \"to_replace_df\" and replace \"Area\" with value at the corresponding \"First Scan\" from \"source_file\""
   ]
  },
  {
   "cell_type": "code",
   "execution_count": 4,
   "metadata": {},
   "outputs": [],
   "source": [
    "for i, r in to_replace_df.iterrows():\n",
    "    to_replace_df.at[i, \"Area\"] = source_df.loc[r[\"First Scan\"]][\"Area\"]"
   ]
  },
  {
   "cell_type": "code",
   "execution_count": 5,
   "metadata": {},
   "outputs": [],
   "source": [
    "to_replace_df.to_excel(output, index=False)"
   ]
  }
 ],
 "metadata": {
  "kernelspec": {
   "display_name": "Python 3",
   "language": "python",
   "name": "python3"
  },
  "language_info": {
   "codemirror_mode": {
    "name": "ipython",
    "version": 3
   },
   "file_extension": ".py",
   "mimetype": "text/x-python",
   "name": "python",
   "nbconvert_exporter": "python",
   "pygments_lexer": "ipython3",
   "version": "3.6.6"
  }
 },
 "nbformat": 4,
 "nbformat_minor": 2
}
